{
 "cells": [
  {
   "cell_type": "code",
   "execution_count": 4,
   "id": "72efbc62-949a-48b3-a1cc-5f44ef94c80c",
   "metadata": {},
   "outputs": [],
   "source": [
    "import numpy as np\n",
    "import matplotlib.pyplot as plt\n",
    "import pandas as pd"
   ]
  },
  {
   "cell_type": "code",
   "execution_count": 5,
   "id": "16acb0fa-9166-4cf7-acc2-f405fc47c473",
   "metadata": {},
   "outputs": [],
   "source": [
    "# Loading dataset\n",
    "dataset = pd.read_csv('Churn_Modelling.csv')"
   ]
  },
  {
   "cell_type": "code",
   "execution_count": 6,
   "id": "60b8f883-4ee2-4da3-9d96-58e0625a9dd2",
   "metadata": {},
   "outputs": [
    {
     "data": {
      "text/html": [
       "<div>\n",
       "<style scoped>\n",
       "    .dataframe tbody tr th:only-of-type {\n",
       "        vertical-align: middle;\n",
       "    }\n",
       "\n",
       "    .dataframe tbody tr th {\n",
       "        vertical-align: top;\n",
       "    }\n",
       "\n",
       "    .dataframe thead th {\n",
       "        text-align: right;\n",
       "    }\n",
       "</style>\n",
       "<table border=\"1\" class=\"dataframe\">\n",
       "  <thead>\n",
       "    <tr style=\"text-align: right;\">\n",
       "      <th></th>\n",
       "      <th>RowNumber</th>\n",
       "      <th>CustomerId</th>\n",
       "      <th>Surname</th>\n",
       "      <th>CreditScore</th>\n",
       "      <th>Geography</th>\n",
       "      <th>Gender</th>\n",
       "      <th>Age</th>\n",
       "      <th>Tenure</th>\n",
       "      <th>Balance</th>\n",
       "      <th>NumOfProducts</th>\n",
       "      <th>HasCrCard</th>\n",
       "      <th>IsActiveMember</th>\n",
       "      <th>EstimatedSalary</th>\n",
       "      <th>Exited</th>\n",
       "    </tr>\n",
       "  </thead>\n",
       "  <tbody>\n",
       "    <tr>\n",
       "      <th>0</th>\n",
       "      <td>1</td>\n",
       "      <td>15634602</td>\n",
       "      <td>Hargrave</td>\n",
       "      <td>619</td>\n",
       "      <td>France</td>\n",
       "      <td>Female</td>\n",
       "      <td>42</td>\n",
       "      <td>2</td>\n",
       "      <td>0.00</td>\n",
       "      <td>1</td>\n",
       "      <td>1</td>\n",
       "      <td>1</td>\n",
       "      <td>101348.88</td>\n",
       "      <td>1</td>\n",
       "    </tr>\n",
       "    <tr>\n",
       "      <th>1</th>\n",
       "      <td>2</td>\n",
       "      <td>15647311</td>\n",
       "      <td>Hill</td>\n",
       "      <td>608</td>\n",
       "      <td>Spain</td>\n",
       "      <td>Female</td>\n",
       "      <td>41</td>\n",
       "      <td>1</td>\n",
       "      <td>83807.86</td>\n",
       "      <td>1</td>\n",
       "      <td>0</td>\n",
       "      <td>1</td>\n",
       "      <td>112542.58</td>\n",
       "      <td>0</td>\n",
       "    </tr>\n",
       "    <tr>\n",
       "      <th>2</th>\n",
       "      <td>3</td>\n",
       "      <td>15619304</td>\n",
       "      <td>Onio</td>\n",
       "      <td>502</td>\n",
       "      <td>France</td>\n",
       "      <td>Female</td>\n",
       "      <td>42</td>\n",
       "      <td>8</td>\n",
       "      <td>159660.80</td>\n",
       "      <td>3</td>\n",
       "      <td>1</td>\n",
       "      <td>0</td>\n",
       "      <td>113931.57</td>\n",
       "      <td>1</td>\n",
       "    </tr>\n",
       "    <tr>\n",
       "      <th>3</th>\n",
       "      <td>4</td>\n",
       "      <td>15701354</td>\n",
       "      <td>Boni</td>\n",
       "      <td>699</td>\n",
       "      <td>France</td>\n",
       "      <td>Female</td>\n",
       "      <td>39</td>\n",
       "      <td>1</td>\n",
       "      <td>0.00</td>\n",
       "      <td>2</td>\n",
       "      <td>0</td>\n",
       "      <td>0</td>\n",
       "      <td>93826.63</td>\n",
       "      <td>0</td>\n",
       "    </tr>\n",
       "    <tr>\n",
       "      <th>4</th>\n",
       "      <td>5</td>\n",
       "      <td>15737888</td>\n",
       "      <td>Mitchell</td>\n",
       "      <td>850</td>\n",
       "      <td>Spain</td>\n",
       "      <td>Female</td>\n",
       "      <td>43</td>\n",
       "      <td>2</td>\n",
       "      <td>125510.82</td>\n",
       "      <td>1</td>\n",
       "      <td>1</td>\n",
       "      <td>1</td>\n",
       "      <td>79084.10</td>\n",
       "      <td>0</td>\n",
       "    </tr>\n",
       "    <tr>\n",
       "      <th>...</th>\n",
       "      <td>...</td>\n",
       "      <td>...</td>\n",
       "      <td>...</td>\n",
       "      <td>...</td>\n",
       "      <td>...</td>\n",
       "      <td>...</td>\n",
       "      <td>...</td>\n",
       "      <td>...</td>\n",
       "      <td>...</td>\n",
       "      <td>...</td>\n",
       "      <td>...</td>\n",
       "      <td>...</td>\n",
       "      <td>...</td>\n",
       "      <td>...</td>\n",
       "    </tr>\n",
       "    <tr>\n",
       "      <th>9995</th>\n",
       "      <td>9996</td>\n",
       "      <td>15606229</td>\n",
       "      <td>Obijiaku</td>\n",
       "      <td>771</td>\n",
       "      <td>France</td>\n",
       "      <td>Male</td>\n",
       "      <td>39</td>\n",
       "      <td>5</td>\n",
       "      <td>0.00</td>\n",
       "      <td>2</td>\n",
       "      <td>1</td>\n",
       "      <td>0</td>\n",
       "      <td>96270.64</td>\n",
       "      <td>0</td>\n",
       "    </tr>\n",
       "    <tr>\n",
       "      <th>9996</th>\n",
       "      <td>9997</td>\n",
       "      <td>15569892</td>\n",
       "      <td>Johnstone</td>\n",
       "      <td>516</td>\n",
       "      <td>France</td>\n",
       "      <td>Male</td>\n",
       "      <td>35</td>\n",
       "      <td>10</td>\n",
       "      <td>57369.61</td>\n",
       "      <td>1</td>\n",
       "      <td>1</td>\n",
       "      <td>1</td>\n",
       "      <td>101699.77</td>\n",
       "      <td>0</td>\n",
       "    </tr>\n",
       "    <tr>\n",
       "      <th>9997</th>\n",
       "      <td>9998</td>\n",
       "      <td>15584532</td>\n",
       "      <td>Liu</td>\n",
       "      <td>709</td>\n",
       "      <td>France</td>\n",
       "      <td>Female</td>\n",
       "      <td>36</td>\n",
       "      <td>7</td>\n",
       "      <td>0.00</td>\n",
       "      <td>1</td>\n",
       "      <td>0</td>\n",
       "      <td>1</td>\n",
       "      <td>42085.58</td>\n",
       "      <td>1</td>\n",
       "    </tr>\n",
       "    <tr>\n",
       "      <th>9998</th>\n",
       "      <td>9999</td>\n",
       "      <td>15682355</td>\n",
       "      <td>Sabbatini</td>\n",
       "      <td>772</td>\n",
       "      <td>Germany</td>\n",
       "      <td>Male</td>\n",
       "      <td>42</td>\n",
       "      <td>3</td>\n",
       "      <td>75075.31</td>\n",
       "      <td>2</td>\n",
       "      <td>1</td>\n",
       "      <td>0</td>\n",
       "      <td>92888.52</td>\n",
       "      <td>1</td>\n",
       "    </tr>\n",
       "    <tr>\n",
       "      <th>9999</th>\n",
       "      <td>10000</td>\n",
       "      <td>15628319</td>\n",
       "      <td>Walker</td>\n",
       "      <td>792</td>\n",
       "      <td>France</td>\n",
       "      <td>Female</td>\n",
       "      <td>28</td>\n",
       "      <td>4</td>\n",
       "      <td>130142.79</td>\n",
       "      <td>1</td>\n",
       "      <td>1</td>\n",
       "      <td>0</td>\n",
       "      <td>38190.78</td>\n",
       "      <td>0</td>\n",
       "    </tr>\n",
       "  </tbody>\n",
       "</table>\n",
       "<p>10000 rows × 14 columns</p>\n",
       "</div>"
      ],
      "text/plain": [
       "      RowNumber  CustomerId    Surname  CreditScore Geography  Gender  Age  \\\n",
       "0             1    15634602   Hargrave          619    France  Female   42   \n",
       "1             2    15647311       Hill          608     Spain  Female   41   \n",
       "2             3    15619304       Onio          502    France  Female   42   \n",
       "3             4    15701354       Boni          699    France  Female   39   \n",
       "4             5    15737888   Mitchell          850     Spain  Female   43   \n",
       "...         ...         ...        ...          ...       ...     ...  ...   \n",
       "9995       9996    15606229   Obijiaku          771    France    Male   39   \n",
       "9996       9997    15569892  Johnstone          516    France    Male   35   \n",
       "9997       9998    15584532        Liu          709    France  Female   36   \n",
       "9998       9999    15682355  Sabbatini          772   Germany    Male   42   \n",
       "9999      10000    15628319     Walker          792    France  Female   28   \n",
       "\n",
       "      Tenure    Balance  NumOfProducts  HasCrCard  IsActiveMember  \\\n",
       "0          2       0.00              1          1               1   \n",
       "1          1   83807.86              1          0               1   \n",
       "2          8  159660.80              3          1               0   \n",
       "3          1       0.00              2          0               0   \n",
       "4          2  125510.82              1          1               1   \n",
       "...      ...        ...            ...        ...             ...   \n",
       "9995       5       0.00              2          1               0   \n",
       "9996      10   57369.61              1          1               1   \n",
       "9997       7       0.00              1          0               1   \n",
       "9998       3   75075.31              2          1               0   \n",
       "9999       4  130142.79              1          1               0   \n",
       "\n",
       "      EstimatedSalary  Exited  \n",
       "0           101348.88       1  \n",
       "1           112542.58       0  \n",
       "2           113931.57       1  \n",
       "3            93826.63       0  \n",
       "4            79084.10       0  \n",
       "...               ...     ...  \n",
       "9995         96270.64       0  \n",
       "9996        101699.77       0  \n",
       "9997         42085.58       1  \n",
       "9998         92888.52       1  \n",
       "9999         38190.78       0  \n",
       "\n",
       "[10000 rows x 14 columns]"
      ]
     },
     "execution_count": 6,
     "metadata": {},
     "output_type": "execute_result"
    }
   ],
   "source": [
    "dataset"
   ]
  },
  {
   "cell_type": "code",
   "execution_count": 8,
   "id": "da66f707-2141-4fcc-864f-67977254d3f4",
   "metadata": {},
   "outputs": [],
   "source": [
    "X = dataset.iloc[:,3:13].values\n",
    "Y = dataset.iloc[:,13].values"
   ]
  },
  {
   "cell_type": "code",
   "execution_count": 9,
   "id": "8c6b2236-39f0-4b44-b9db-c375cf6351af",
   "metadata": {},
   "outputs": [
    {
     "name": "stdout",
     "output_type": "stream",
     "text": [
      "[[619 'France' 'Female' ... 1 1 101348.88]\n",
      " [608 'Spain' 'Female' ... 0 1 112542.58]\n",
      " [502 'France' 'Female' ... 1 0 113931.57]\n",
      " ...\n",
      " [709 'France' 'Female' ... 0 1 42085.58]\n",
      " [772 'Germany' 'Male' ... 1 0 92888.52]\n",
      " [792 'France' 'Female' ... 1 0 38190.78]]\n"
     ]
    }
   ],
   "source": [
    "print(X)"
   ]
  },
  {
   "cell_type": "code",
   "execution_count": 10,
   "id": "946b09ec-ae48-456b-b3b7-f8a315d94f1f",
   "metadata": {},
   "outputs": [
    {
     "name": "stdout",
     "output_type": "stream",
     "text": [
      "[1 0 1 ... 1 1 0]\n"
     ]
    }
   ],
   "source": [
    "print(Y)"
   ]
  },
  {
   "cell_type": "markdown",
   "id": "d092eacb-34c3-480f-81ba-f34d8207152e",
   "metadata": {},
   "source": [
    "## Labelling and enconding our data"
   ]
  },
  {
   "cell_type": "code",
   "execution_count": 17,
   "id": "edc6988d-0e9c-4af6-97b4-63f0c207a52c",
   "metadata": {},
   "outputs": [
    {
     "name": "stdout",
     "output_type": "stream",
     "text": [
      "Collecting scikit-learn\n",
      "  Downloading scikit_learn-1.6.1-cp311-cp311-win_amd64.whl.metadata (15 kB)\n",
      "Requirement already satisfied: numpy>=1.19.5 in c:\\users\\max\\appdata\\local\\programs\\python\\python311\\lib\\site-packages (from scikit-learn) (2.2.1)\n",
      "Collecting scipy>=1.6.0 (from scikit-learn)\n",
      "  Downloading scipy-1.15.1-cp311-cp311-win_amd64.whl.metadata (60 kB)\n",
      "Collecting joblib>=1.2.0 (from scikit-learn)\n",
      "  Downloading joblib-1.4.2-py3-none-any.whl.metadata (5.4 kB)\n",
      "Collecting threadpoolctl>=3.1.0 (from scikit-learn)\n",
      "  Downloading threadpoolctl-3.5.0-py3-none-any.whl.metadata (13 kB)\n",
      "Downloading scikit_learn-1.6.1-cp311-cp311-win_amd64.whl (11.1 MB)\n",
      "   ---------------------------------------- 0.0/11.1 MB ? eta -:--:--\n",
      "   - -------------------------------------- 0.5/11.1 MB 4.2 MB/s eta 0:00:03\n",
      "   ------ --------------------------------- 1.8/11.1 MB 5.3 MB/s eta 0:00:02\n",
      "   ---------- ----------------------------- 2.9/11.1 MB 5.4 MB/s eta 0:00:02\n",
      "   --------------- ------------------------ 4.2/11.1 MB 5.2 MB/s eta 0:00:02\n",
      "   ------------------ --------------------- 5.2/11.1 MB 5.3 MB/s eta 0:00:02\n",
      "   ---------------------- ----------------- 6.3/11.1 MB 5.1 MB/s eta 0:00:01\n",
      "   ------------------------- -------------- 7.1/11.1 MB 4.9 MB/s eta 0:00:01\n",
      "   ----------------------------- ---------- 8.1/11.1 MB 4.8 MB/s eta 0:00:01\n",
      "   -------------------------------- ------- 8.9/11.1 MB 4.8 MB/s eta 0:00:01\n",
      "   ------------------------------------- -- 10.5/11.1 MB 4.8 MB/s eta 0:00:01\n",
      "   ---------------------------------------  11.0/11.1 MB 4.4 MB/s eta 0:00:01\n",
      "   ---------------------------------------  11.0/11.1 MB 4.4 MB/s eta 0:00:01\n",
      "   ---------------------------------------  11.0/11.1 MB 4.4 MB/s eta 0:00:01\n",
      "   ---------------------------------------  11.0/11.1 MB 4.4 MB/s eta 0:00:01\n",
      "   ---------------------------------------  11.0/11.1 MB 4.4 MB/s eta 0:00:01\n",
      "   ---------------------------------------  11.0/11.1 MB 4.4 MB/s eta 0:00:01\n",
      "   ---------------------------------------  11.0/11.1 MB 4.4 MB/s eta 0:00:01\n",
      "   ---------------------------------------  11.0/11.1 MB 4.4 MB/s eta 0:00:01\n",
      "   ---------------------------------------- 11.1/11.1 MB 2.8 MB/s eta 0:00:00\n",
      "Downloading joblib-1.4.2-py3-none-any.whl (301 kB)\n",
      "Downloading scipy-1.15.1-cp311-cp311-win_amd64.whl (43.9 MB)\n",
      "   ---------------------------------------- 0.0/43.9 MB ? eta -:--:--\n",
      "    --------------------------------------- 1.0/43.9 MB 5.0 MB/s eta 0:00:09\n",
      "   - -------------------------------------- 2.1/43.9 MB 4.9 MB/s eta 0:00:09\n",
      "   --- ------------------------------------ 3.4/43.9 MB 5.3 MB/s eta 0:00:08\n",
      "   ---- ----------------------------------- 4.5/43.9 MB 5.3 MB/s eta 0:00:08\n",
      "   ---- ----------------------------------- 5.2/43.9 MB 5.1 MB/s eta 0:00:08\n",
      "   ----- ---------------------------------- 6.0/43.9 MB 4.7 MB/s eta 0:00:09\n",
      "   ----- ---------------------------------- 6.6/43.9 MB 4.3 MB/s eta 0:00:09\n",
      "   ------ --------------------------------- 7.1/43.9 MB 4.2 MB/s eta 0:00:09\n",
      "   ------- -------------------------------- 8.1/43.9 MB 4.2 MB/s eta 0:00:09\n",
      "   -------- ------------------------------- 9.2/43.9 MB 4.2 MB/s eta 0:00:09\n",
      "   --------- ------------------------------ 10.2/43.9 MB 4.3 MB/s eta 0:00:08\n",
      "   ---------- ----------------------------- 11.0/43.9 MB 4.3 MB/s eta 0:00:08\n",
      "   ----------- ---------------------------- 12.3/43.9 MB 4.4 MB/s eta 0:00:08\n",
      "   ------------ --------------------------- 13.4/43.9 MB 4.4 MB/s eta 0:00:07\n",
      "   ------------- -------------------------- 14.7/43.9 MB 4.5 MB/s eta 0:00:07\n",
      "   -------------- ------------------------- 15.5/43.9 MB 4.6 MB/s eta 0:00:07\n",
      "   -------------- ------------------------- 15.7/43.9 MB 4.3 MB/s eta 0:00:07\n",
      "   --------------- ------------------------ 16.5/43.9 MB 4.3 MB/s eta 0:00:07\n",
      "   --------------- ------------------------ 16.5/43.9 MB 4.3 MB/s eta 0:00:07\n",
      "   --------------- ------------------------ 17.0/43.9 MB 4.0 MB/s eta 0:00:07\n",
      "   ---------------- ----------------------- 17.8/43.9 MB 3.9 MB/s eta 0:00:07\n",
      "   ---------------- ----------------------- 18.6/43.9 MB 3.9 MB/s eta 0:00:07\n",
      "   ----------------- ---------------------- 19.7/43.9 MB 4.0 MB/s eta 0:00:07\n",
      "   ------------------ --------------------- 20.7/43.9 MB 4.0 MB/s eta 0:00:06\n",
      "   ------------------- -------------------- 21.8/43.9 MB 4.1 MB/s eta 0:00:06\n",
      "   --------------------- ------------------ 23.1/43.9 MB 4.1 MB/s eta 0:00:06\n",
      "   --------------------- ------------------ 23.9/43.9 MB 4.1 MB/s eta 0:00:05\n",
      "   ---------------------- ----------------- 24.9/43.9 MB 4.1 MB/s eta 0:00:05\n",
      "   ----------------------- ---------------- 26.0/43.9 MB 4.1 MB/s eta 0:00:05\n",
      "   ------------------------ --------------- 27.0/43.9 MB 4.2 MB/s eta 0:00:05\n",
      "   ------------------------- -------------- 28.0/43.9 MB 4.2 MB/s eta 0:00:04\n",
      "   -------------------------- ------------- 29.1/43.9 MB 4.2 MB/s eta 0:00:04\n",
      "   --------------------------- ------------ 30.1/43.9 MB 4.3 MB/s eta 0:00:04\n",
      "   ---------------------------- ----------- 31.5/43.9 MB 4.3 MB/s eta 0:00:03\n",
      "   ----------------------------- ---------- 32.5/43.9 MB 4.3 MB/s eta 0:00:03\n",
      "   ------------------------------ --------- 33.6/43.9 MB 4.3 MB/s eta 0:00:03\n",
      "   ------------------------------- -------- 34.9/43.9 MB 4.4 MB/s eta 0:00:03\n",
      "   -------------------------------- ------- 35.9/43.9 MB 4.4 MB/s eta 0:00:02\n",
      "   -------------------------------- ------- 35.9/43.9 MB 4.4 MB/s eta 0:00:02\n",
      "   --------------------------------- ------ 37.2/43.9 MB 4.3 MB/s eta 0:00:02\n",
      "   ---------------------------------- ----- 38.3/43.9 MB 4.3 MB/s eta 0:00:02\n",
      "   ----------------------------------- ---- 39.3/43.9 MB 4.3 MB/s eta 0:00:02\n",
      "   ------------------------------------- -- 40.6/43.9 MB 4.4 MB/s eta 0:00:01\n",
      "   ------------------------------------- -- 41.7/43.9 MB 4.4 MB/s eta 0:00:01\n",
      "   -------------------------------------- - 42.7/43.9 MB 4.4 MB/s eta 0:00:01\n",
      "   ---------------------------------------  43.8/43.9 MB 4.4 MB/s eta 0:00:01\n",
      "   ---------------------------------------  43.8/43.9 MB 4.4 MB/s eta 0:00:01\n",
      "   ---------------------------------------  43.8/43.9 MB 4.4 MB/s eta 0:00:01\n",
      "   ---------------------------------------  43.8/43.9 MB 4.4 MB/s eta 0:00:01\n",
      "   ---------------------------------------  43.8/43.9 MB 4.4 MB/s eta 0:00:01\n",
      "   ---------------------------------------  43.8/43.9 MB 4.4 MB/s eta 0:00:01\n",
      "   ---------------------------------------  43.8/43.9 MB 4.4 MB/s eta 0:00:01\n",
      "   ---------------------------------------  43.8/43.9 MB 4.4 MB/s eta 0:00:01\n",
      "   ---------------------------------------  43.8/43.9 MB 4.4 MB/s eta 0:00:01\n",
      "   ---------------------------------------  43.8/43.9 MB 4.4 MB/s eta 0:00:01\n",
      "   ---------------------------------------- 43.9/43.9 MB 3.6 MB/s eta 0:00:00\n",
      "Downloading threadpoolctl-3.5.0-py3-none-any.whl (18 kB)\n",
      "Installing collected packages: threadpoolctl, scipy, joblib, scikit-learn\n",
      "Successfully installed joblib-1.4.2 scikit-learn-1.6.1 scipy-1.15.1 threadpoolctl-3.5.0\n"
     ]
    }
   ],
   "source": [
    "!pip install scikit-learn"
   ]
  },
  {
   "cell_type": "code",
   "execution_count": 18,
   "id": "6df6bf80-bb45-4fa4-a612-ec8680dc5cc4",
   "metadata": {},
   "outputs": [],
   "source": [
    "from sklearn.preprocessing import LabelEncoder, OneHotEncoder"
   ]
  },
  {
   "cell_type": "code",
   "execution_count": 19,
   "id": "639d877b-198e-49e1-93c1-7102292f4736",
   "metadata": {},
   "outputs": [],
   "source": [
    "labelencoder_X_2 = LabelEncoder()"
   ]
  },
  {
   "cell_type": "code",
   "execution_count": 21,
   "id": "eb8f959f-d32b-4e8c-b78b-b6bf9a907ddd",
   "metadata": {},
   "outputs": [],
   "source": [
    "X[:,2] = labelencoder_X_2.fit_transform(X[:,2])"
   ]
  },
  {
   "cell_type": "code",
   "execution_count": 22,
   "id": "587b405c-2c56-4813-9f9e-ecfdcf8e0661",
   "metadata": {},
   "outputs": [
    {
     "name": "stdout",
     "output_type": "stream",
     "text": [
      "[[619 'France' 0 ... 1 1 101348.88]\n",
      " [608 'Spain' 0 ... 0 1 112542.58]\n",
      " [502 'France' 0 ... 1 0 113931.57]\n",
      " ...\n",
      " [709 'France' 0 ... 0 1 42085.58]\n",
      " [772 'Germany' 1 ... 1 0 92888.52]\n",
      " [792 'France' 0 ... 1 0 38190.78]]\n"
     ]
    }
   ],
   "source": [
    "print(X)"
   ]
  },
  {
   "cell_type": "code",
   "execution_count": 23,
   "id": "36bf4397-0299-4be5-883d-ac467c2a6248",
   "metadata": {},
   "outputs": [],
   "source": [
    "from sklearn.compose import ColumnTransformer"
   ]
  },
  {
   "cell_type": "code",
   "execution_count": 25,
   "id": "2496b49d-3ba4-42fe-a187-b0323d719e72",
   "metadata": {},
   "outputs": [],
   "source": [
    "ct = ColumnTransformer([('ohe',OneHotEncoder(),[1])], remainder='passthrough')"
   ]
  },
  {
   "cell_type": "code",
   "execution_count": 30,
   "id": "7a6f0dfa-f225-403f-8b4a-ba15ff5d31f9",
   "metadata": {},
   "outputs": [],
   "source": [
    "# X = np.array(ct.fit_transform(X), dtype = np.str)\n",
    "X = np.array(ct.fit_transform(X), dtype=np.str_)"
   ]
  },
  {
   "cell_type": "code",
   "execution_count": 31,
   "id": "deef731c-77b7-4ca5-811d-3207c919b7cf",
   "metadata": {},
   "outputs": [],
   "source": [
    "X = X[:,1:]"
   ]
  },
  {
   "cell_type": "code",
   "execution_count": 32,
   "id": "2ed72737-7810-4cdb-84d1-3d6d7fdc3d08",
   "metadata": {},
   "outputs": [
    {
     "name": "stdout",
     "output_type": "stream",
     "text": [
      "[['0.0' 'France' '42' ... '1' '1' '101348.88']\n",
      " ['0.0' 'Spain' '41' ... '0' '1' '112542.58']\n",
      " ['0.0' 'France' '42' ... '1' '0' '113931.57']\n",
      " ...\n",
      " ['0.0' 'France' '36' ... '0' '1' '42085.58']\n",
      " ['1.0' 'Germany' '42' ... '1' '0' '92888.52']\n",
      " ['0.0' 'France' '28' ... '1' '0' '38190.78']]\n"
     ]
    }
   ],
   "source": [
    "print(X)"
   ]
  },
  {
   "cell_type": "markdown",
   "id": "6a756d9b-bc32-462b-83ce-826b4be001b1",
   "metadata": {},
   "source": [
    "## Spliting the data into training set and test set"
   ]
  },
  {
   "cell_type": "code",
   "execution_count": 33,
   "id": "f54dd22c-4091-448c-9f5c-1ab9ee146a80",
   "metadata": {},
   "outputs": [],
   "source": [
    "from sklearn.model_selection import train_test_split"
   ]
  },
  {
   "cell_type": "code",
   "execution_count": 34,
   "id": "79f6e2f7-7b73-4dac-9e01-9952b88a75fb",
   "metadata": {},
   "outputs": [],
   "source": [
    "X_train, X_test, Y_train, Y_test = train_test_split(X, Y, test_size = 0.2, random_state = 0)"
   ]
  },
  {
   "cell_type": "code",
   "execution_count": null,
   "id": "ccc3bb17-4a1d-46e3-a3e2-fbb8ab46789a",
   "metadata": {},
   "outputs": [],
   "source": []
  }
 ],
 "metadata": {
  "kernelspec": {
   "display_name": "Python 3 (ipykernel)",
   "language": "python",
   "name": "python3"
  },
  "language_info": {
   "codemirror_mode": {
    "name": "ipython",
    "version": 3
   },
   "file_extension": ".py",
   "mimetype": "text/x-python",
   "name": "python",
   "nbconvert_exporter": "python",
   "pygments_lexer": "ipython3",
   "version": "3.11.5"
  }
 },
 "nbformat": 4,
 "nbformat_minor": 5
}
